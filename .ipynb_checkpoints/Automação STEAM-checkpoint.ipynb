{
 "cells": [
  {
   "cell_type": "code",
   "execution_count": null,
   "id": "9dff4915",
   "metadata": {},
   "outputs": [],
   "source": [
    "from selenium import webdriver\n",
    "from selenium.webdriver.common.keys import Keys\n",
    "import time\n",
    "\n",
    "navegador = webdriver.Chrome()\n",
    "navegador.get(\"https://steamcommunity.com/market/search?appid=730\")\n",
    "total_paginas = int(navegador.find_element_by_xpath('//*[@id=\"searchResults_links\"]/span[7]').text)\n",
    "\n",
    "\n",
    "itens={}\n",
    "temp_name =[] \n",
    "temp_price = []\n",
    "for i in range(1,3):\n",
    "    time.sleep(1)\n",
    "    for i in range (0,10):\n",
    "        temp_name=(str(navegador.find_element_by_id(f'result_{i}_name').text))\n",
    "        temp_price=int(navegador.find_element_by_xpath(f'//*[@id=\"result_{i}\"]/div[1]/div[2]/span[1]/span[1]').get_attribute('data-price'))\n",
    "        itens[temp_name]=format(temp_price*0.01,'.2f')\n",
    "    navegador.find_element_by_xpath(f'//*[@id=\"searchResults_btn_next\"]').click()\n",
    "    navegador.quit()\n",
    "   "
   ]
  },
  {
   "cell_type": "code",
   "execution_count": 8,
   "id": "812b318e",
   "metadata": {},
   "outputs": [
    {
     "name": "stdout",
     "output_type": "stream",
     "text": [
      "{'Snakebite Case': '0.70', 'Caixa das Luvas': '1.75', 'Caixa do Aperto': '0.20', '2ª Caixa Espectral': '0.37', 'Lendas da CRM 2020': '0.43', 'Caixa Fraturada': '0.16', 'Caixa de Armas da Operação Libertação': '2.43', '2ª Caixa Gama': '0.43', 'Caixa da Zona de Perigo': '0.08', '2ª Caixa Prismática': '0.06'}\n"
     ]
    }
   ],
   "source": [
    "print(itens)\n",
    "    "
   ]
  },
  {
   "cell_type": "code",
   "execution_count": null,
   "id": "37a82193",
   "metadata": {},
   "outputs": [],
   "source": []
  }
 ],
 "metadata": {
  "interpreter": {
   "hash": "a8f61be024eba58adef938c9aa1e29e02cb3dece83a5348b1a2dafd16a070453"
  },
  "kernelspec": {
   "display_name": "Python 3 (ipykernel)",
   "language": "python",
   "name": "python3"
  },
  "language_info": {
   "codemirror_mode": {
    "name": "ipython",
    "version": 3
   },
   "file_extension": ".py",
   "mimetype": "text/x-python",
   "name": "python",
   "nbconvert_exporter": "python",
   "pygments_lexer": "ipython3",
   "version": "3.9.6"
  }
 },
 "nbformat": 4,
 "nbformat_minor": 5
}
